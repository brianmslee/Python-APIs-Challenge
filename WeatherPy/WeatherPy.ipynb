{
 "cells": [
  {
   "cell_type": "markdown",
   "metadata": {},
   "source": [
    "# WeatherPy\n",
    "----\n",
    "\n",
    "#### Note\n",
    "* Instructions have been included for each segment. You do not have to follow them exactly, but they are included to help you think through the steps."
   ]
  },
  {
   "cell_type": "code",
   "execution_count": 116,
   "metadata": {
    "scrolled": true
   },
   "outputs": [],
   "source": [
    "# Dependencies and Setup\n",
    "import matplotlib.pyplot as plt\n",
    "import pandas as pd\n",
    "import numpy as np\n",
    "import requests\n",
    "import time\n",
    "from scipy.stats import linregress\n",
    "\n",
    "# Import API key\n",
    "from api_keys import weather_api_key\n",
    "\n",
    "# Incorporated citipy to determine city based on latitude and longitude\n",
    "from citipy import citipy\n",
    "\n",
    "# Output File (CSV)\n",
    "output_data_file = \"output_data/cities.csv\"\n",
    "\n",
    "# Range of latitudes and longitudes\n",
    "lat_range = (-90, 90)\n",
    "lng_range = (-180, 180)"
   ]
  },
  {
   "cell_type": "markdown",
   "metadata": {},
   "source": [
    "## Generate Cities List"
   ]
  },
  {
   "cell_type": "code",
   "execution_count": 117,
   "metadata": {},
   "outputs": [
    {
     "data": {
      "text/plain": [
       "628"
      ]
     },
     "execution_count": 117,
     "metadata": {},
     "output_type": "execute_result"
    }
   ],
   "source": [
    "# List for holding lat_lngs and cities\n",
    "lat_lngs = []\n",
    "cities = []\n",
    "\n",
    "# Create a set of random lat and lng combinations\n",
    "lats = np.random.uniform(lat_range[0], lat_range[1], size=1500)\n",
    "lngs = np.random.uniform(lng_range[0], lng_range[1], size=1500)\n",
    "lat_lngs = zip(lats, lngs)\n",
    "\n",
    "# Identify nearest city for each lat, lng combination\n",
    "for lat_lng in lat_lngs:\n",
    "    city = citipy.nearest_city(lat_lng[0], lat_lng[1]).city_name\n",
    "    \n",
    "    # If the city is unique, then add it to a our cities list\n",
    "    if city not in cities:\n",
    "        cities.append(city)\n",
    "\n",
    "# Print the city count to confirm sufficient count\n",
    "len(cities)"
   ]
  },
  {
   "cell_type": "markdown",
   "metadata": {},
   "source": [
    "### Perform API Calls\n",
    "* Perform a weather check on each city using a series of successive API calls.\n",
    "* Include a print log of each city as it'sbeing processed (with the city number and city name).\n"
   ]
  },
  {
   "cell_type": "markdown",
   "metadata": {},
   "source": [
    "### Convert Raw Data to DataFrame\n",
    "* Export the city data into a .csv.\n",
    "* Display the DataFrame"
   ]
  },
  {
   "cell_type": "code",
   "execution_count": 118,
   "metadata": {
    "scrolled": false
   },
   "outputs": [
    {
     "name": "stdout",
     "output_type": "stream",
     "text": [
      "Beginning Data Retrieval     \n",
      "-----------------------------\n",
      "Processing Record 1 of Set 1 | upernavik\n",
      "Processing Record 2 of Set 1 | leningradskiy\n",
      "Processing Record 3 of Set 1 | pevek\n",
      "Processing Record 4 of Set 1 | port augusta\n",
      "Processing Record 5 of Set 1 | bonavista\n",
      "Processing Record 6 of Set 1 | rikitea\n",
      "Processing Record 7 of Set 1 | airai\n",
      "Processing Record 8 of Set 1 | saldanha\n",
      "Processing Record 9 of Set 1 | ushuaia\n",
      "Processing Record 10 of Set 1 | busselton\n",
      "Processing Record 11 of Set 1 | trinidad\n",
      "Processing Record 12 of Set 1 | zhuhai\n",
      "Processing Record 13 of Set 1 | butaritari\n",
      "Processing Record 14 of Set 1 | narsaq\n",
      "Processing Record 15 of Set 1 | mataura\n",
      "Processing Record 16 of Set 1 | cape town\n",
      "Processing Record 17 of Set 1 | barentsburg\n",
      "City not found. Skipping...\n",
      "Processing Record 18 of Set 1 | qaanaaq\n",
      "Processing Record 19 of Set 1 | illoqqortoormiut\n",
      "City not found. Skipping...\n",
      "Processing Record 20 of Set 1 | hilo\n",
      "Processing Record 21 of Set 1 | castro\n",
      "Processing Record 22 of Set 1 | evensk\n",
      "Processing Record 23 of Set 1 | hobart\n",
      "Processing Record 24 of Set 1 | faanui\n",
      "Processing Record 25 of Set 1 | lavrentiya\n",
      "Processing Record 26 of Set 1 | khatanga\n",
      "Processing Record 27 of Set 1 | amderma\n",
      "City not found. Skipping...\n",
      "Processing Record 28 of Set 1 | ostersund\n",
      "Processing Record 29 of Set 1 | cabo san lucas\n",
      "Processing Record 30 of Set 1 | laiagam\n",
      "City not found. Skipping...\n",
      "Processing Record 31 of Set 1 | ghugus\n",
      "Processing Record 32 of Set 1 | atuona\n",
      "Processing Record 33 of Set 1 | severo-kurilsk\n",
      "Processing Record 34 of Set 1 | bluff\n",
      "Processing Record 35 of Set 1 | oum hadjer\n",
      "Processing Record 36 of Set 1 | novouzensk\n",
      "Processing Record 37 of Set 1 | bambous virieux\n",
      "Processing Record 38 of Set 1 | general roca\n",
      "Processing Record 39 of Set 1 | namatanai\n",
      "Processing Record 40 of Set 1 | devli\n",
      "Processing Record 41 of Set 1 | jamestown\n",
      "Processing Record 42 of Set 1 | saint-philippe\n",
      "Processing Record 43 of Set 1 | leshan\n",
      "Processing Record 44 of Set 1 | punta arenas\n",
      "Processing Record 45 of Set 1 | asau\n",
      "Processing Record 46 of Set 1 | port alfred\n",
      "Processing Record 47 of Set 1 | tiksi\n",
      "Processing Record 48 of Set 1 | albany\n",
      "Processing Record 49 of Set 1 | ketchikan\n",
      "Processing Record 50 of Set 1 | margate\n",
      "Processing Record 0 of Set 2 | skarnes\n",
      "Processing Record 1 of Set 2 | taolanaro\n",
      "City not found. Skipping...\n",
      "Processing Record 2 of Set 2 | funadhoo\n",
      "Processing Record 3 of Set 2 | sinnar\n",
      "Processing Record 4 of Set 2 | muzhi\n",
      "Processing Record 5 of Set 2 | saskylakh\n",
      "Processing Record 6 of Set 2 | kodiak\n",
      "Processing Record 7 of Set 2 | klaksvik\n",
      "Processing Record 8 of Set 2 | piranhas\n",
      "Processing Record 9 of Set 2 | eureka\n",
      "Processing Record 10 of Set 2 | zapolyarnyy\n",
      "Processing Record 11 of Set 2 | kavieng\n",
      "Processing Record 12 of Set 2 | kaitangata\n",
      "Processing Record 13 of Set 2 | altay\n",
      "Processing Record 14 of Set 2 | itarema\n",
      "Processing Record 15 of Set 2 | lagoa\n",
      "Processing Record 16 of Set 2 | georgetown\n",
      "Processing Record 17 of Set 2 | ancud\n",
      "Processing Record 18 of Set 2 | raudeberg\n",
      "Processing Record 19 of Set 2 | one hundred mile house\n",
      "City not found. Skipping...\n",
      "Processing Record 20 of Set 2 | iquique\n",
      "Processing Record 21 of Set 2 | chokurdakh\n",
      "Processing Record 22 of Set 2 | nuuk\n",
      "Processing Record 23 of Set 2 | binga\n",
      "Processing Record 24 of Set 2 | la ronge\n",
      "Processing Record 25 of Set 2 | constitucion\n",
      "Processing Record 26 of Set 2 | kemijarvi\n",
      "Processing Record 27 of Set 2 | luderitz\n",
      "Processing Record 28 of Set 2 | arraial do cabo\n",
      "Processing Record 29 of Set 2 | san quintin\n",
      "Processing Record 30 of Set 2 | kodinar\n",
      "Processing Record 31 of Set 2 | kununurra\n",
      "Processing Record 32 of Set 2 | souillac\n",
      "Processing Record 33 of Set 2 | hays\n",
      "Processing Record 34 of Set 2 | namibe\n",
      "Processing Record 35 of Set 2 | calvinia\n",
      "Processing Record 36 of Set 2 | yining\n",
      "Processing Record 37 of Set 2 | hithadhoo\n",
      "Processing Record 38 of Set 2 | kloulklubed\n",
      "Processing Record 39 of Set 2 | bengkulu\n",
      "Processing Record 40 of Set 2 | ocampo\n",
      "Processing Record 41 of Set 2 | gracac\n",
      "Processing Record 42 of Set 2 | lompoc\n",
      "Processing Record 43 of Set 2 | kruisfontein\n",
      "Processing Record 44 of Set 2 | homer\n",
      "Processing Record 45 of Set 2 | ajdabiya\n",
      "Processing Record 46 of Set 2 | cherskiy\n",
      "Processing Record 47 of Set 2 | vostok\n",
      "Processing Record 48 of Set 2 | tuktoyaktuk\n",
      "Processing Record 49 of Set 2 | moose factory\n",
      "Processing Record 0 of Set 3 | yellowknife\n",
      "Processing Record 1 of Set 3 | broome\n",
      "Processing Record 2 of Set 3 | lusambo\n",
      "Processing Record 3 of Set 3 | kosonsoy\n",
      "Processing Record 4 of Set 3 | vaini\n",
      "Processing Record 5 of Set 3 | new norfolk\n",
      "Processing Record 6 of Set 3 | chuy\n",
      "Processing Record 7 of Set 3 | waipawa\n",
      "Processing Record 8 of Set 3 | barentu\n",
      "Processing Record 9 of Set 3 | asosa\n",
      "Processing Record 10 of Set 3 | ponta do sol\n",
      "Processing Record 11 of Set 3 | ngukurr\n",
      "City not found. Skipping...\n",
      "Processing Record 12 of Set 3 | ashland\n",
      "Processing Record 13 of Set 3 | poum\n",
      "Processing Record 14 of Set 3 | tura\n",
      "Processing Record 15 of Set 3 | saleaula\n",
      "City not found. Skipping...\n",
      "Processing Record 16 of Set 3 | capaccio\n",
      "Processing Record 17 of Set 3 | shellbrook\n",
      "Processing Record 18 of Set 3 | bulgan\n",
      "Processing Record 19 of Set 3 | chibombo\n",
      "Processing Record 20 of Set 3 | tifton\n",
      "Processing Record 21 of Set 3 | aklavik\n",
      "Processing Record 22 of Set 3 | dikson\n",
      "Processing Record 23 of Set 3 | victoria\n",
      "Processing Record 24 of Set 3 | sitka\n",
      "Processing Record 25 of Set 3 | ossora\n",
      "Processing Record 26 of Set 3 | half moon bay\n",
      "Processing Record 27 of Set 3 | sarkand\n",
      "Processing Record 28 of Set 3 | dawlatabad\n",
      "Processing Record 29 of Set 3 | salto\n",
      "Processing Record 30 of Set 3 | port-gentil\n",
      "Processing Record 31 of Set 3 | moron\n",
      "Processing Record 32 of Set 3 | barrow\n",
      "Processing Record 33 of Set 3 | rudbar\n",
      "Processing Record 34 of Set 3 | punta gorda\n",
      "Processing Record 35 of Set 3 | clonakilty\n",
      "Processing Record 36 of Set 3 | provideniya\n",
      "Processing Record 37 of Set 3 | hebertville\n",
      "City not found. Skipping...\n",
      "Processing Record 38 of Set 3 | tinguindin\n",
      "Processing Record 39 of Set 3 | kapaa\n",
      "Processing Record 40 of Set 3 | mrirt\n",
      "City not found. Skipping...\n",
      "Processing Record 41 of Set 3 | grand river south east\n",
      "City not found. Skipping...\n",
      "Processing Record 42 of Set 3 | torbay\n",
      "Processing Record 43 of Set 3 | hailar\n",
      "Processing Record 44 of Set 3 | katsuura\n",
      "Processing Record 45 of Set 3 | karratha\n",
      "Processing Record 46 of Set 3 | uchaly\n",
      "Processing Record 47 of Set 3 | myre\n",
      "Processing Record 48 of Set 3 | ahipara\n",
      "Processing Record 49 of Set 3 | cavalcante\n",
      "Processing Record 0 of Set 4 | grindavik\n",
      "Processing Record 1 of Set 4 | pasni\n",
      "Processing Record 2 of Set 4 | sola\n",
      "Processing Record 3 of Set 4 | bredasdorp\n",
      "Processing Record 4 of Set 4 | denpasar\n",
      "Processing Record 5 of Set 4 | hermanus\n",
      "Processing Record 6 of Set 4 | puerto ayora\n",
      "Processing Record 7 of Set 4 | tasiilaq\n",
      "Processing Record 8 of Set 4 | ribeira grande\n",
      "Processing Record 9 of Set 4 | port elizabeth\n",
      "Processing Record 10 of Set 4 | joigny\n",
      "Processing Record 11 of Set 4 | minamata\n",
      "Processing Record 12 of Set 4 | aguimes\n",
      "Processing Record 13 of Set 4 | alofi\n",
      "Processing Record 14 of Set 4 | lorengau\n",
      "Processing Record 15 of Set 4 | yatou\n",
      "Processing Record 16 of Set 4 | riohacha\n",
      "Processing Record 17 of Set 4 | tsihombe\n",
      "City not found. Skipping...\n",
      "Processing Record 18 of Set 4 | mayna\n",
      "Processing Record 19 of Set 4 | marcona\n",
      "City not found. Skipping...\n",
      "Processing Record 20 of Set 4 | tabiauea\n",
      "City not found. Skipping...\n",
      "Processing Record 21 of Set 4 | villamontes\n",
      "Processing Record 22 of Set 4 | dzilam gonzalez\n",
      "Processing Record 23 of Set 4 | belushya guba\n",
      "City not found. Skipping...\n",
      "Processing Record 24 of Set 4 | strezhevoy\n",
      "Processing Record 25 of Set 4 | chiredzi\n",
      "Processing Record 26 of Set 4 | haines junction\n",
      "Processing Record 27 of Set 4 | amapa\n",
      "Processing Record 28 of Set 4 | katherine\n",
      "Processing Record 29 of Set 4 | fairbanks\n",
      "Processing Record 30 of Set 4 | umm kaddadah\n",
      "Processing Record 31 of Set 4 | tamandare\n",
      "Processing Record 32 of Set 4 | nishiwaki\n",
      "Processing Record 33 of Set 4 | port hardy\n",
      "Processing Record 34 of Set 4 | lolua\n",
      "City not found. Skipping...\n",
      "Processing Record 35 of Set 4 | tsabong\n",
      "Processing Record 36 of Set 4 | bethel\n",
      "Processing Record 37 of Set 4 | lamu\n"
     ]
    },
    {
     "name": "stdout",
     "output_type": "stream",
     "text": [
      "Processing Record 38 of Set 4 | karistos\n",
      "City not found. Skipping...\n",
      "Processing Record 39 of Set 4 | mount isa\n",
      "Processing Record 40 of Set 4 | puerto escondido\n",
      "Processing Record 41 of Set 4 | iralaya\n",
      "Processing Record 42 of Set 4 | moses lake\n",
      "Processing Record 43 of Set 4 | plettenberg bay\n",
      "Processing Record 44 of Set 4 | padang\n",
      "Processing Record 45 of Set 4 | ushtobe\n",
      "Processing Record 46 of Set 4 | pangnirtung\n",
      "Processing Record 47 of Set 4 | chokwe\n",
      "Processing Record 48 of Set 4 | ust-nera\n",
      "Processing Record 49 of Set 4 | ulladulla\n",
      "Processing Record 0 of Set 5 | dianopolis\n",
      "City not found. Skipping...\n",
      "Processing Record 1 of Set 5 | nome\n",
      "Processing Record 2 of Set 5 | nouakchott\n",
      "Processing Record 3 of Set 5 | kachug\n",
      "Processing Record 4 of Set 5 | payo\n",
      "Processing Record 5 of Set 5 | sangar\n",
      "Processing Record 6 of Set 5 | hay river\n",
      "Processing Record 7 of Set 5 | haibowan\n",
      "City not found. Skipping...\n",
      "Processing Record 8 of Set 5 | meyungs\n",
      "City not found. Skipping...\n",
      "Processing Record 9 of Set 5 | fort nelson\n",
      "Processing Record 10 of Set 5 | mahebourg\n",
      "Processing Record 11 of Set 5 | cururupu\n",
      "Processing Record 12 of Set 5 | borgustanskaya\n",
      "Processing Record 13 of Set 5 | vaitupu\n",
      "City not found. Skipping...\n",
      "Processing Record 14 of Set 5 | alta floresta\n",
      "Processing Record 15 of Set 5 | camopi\n",
      "Processing Record 16 of Set 5 | san cristobal\n",
      "Processing Record 17 of Set 5 | qarqin\n",
      "Processing Record 18 of Set 5 | along\n",
      "Processing Record 19 of Set 5 | motema\n",
      "Processing Record 20 of Set 5 | boden\n",
      "Processing Record 21 of Set 5 | la carolina\n",
      "Processing Record 22 of Set 5 | hamilton\n",
      "Processing Record 23 of Set 5 | sakakah\n",
      "Processing Record 24 of Set 5 | rengali\n",
      "Processing Record 25 of Set 5 | colac\n",
      "Processing Record 26 of Set 5 | bonthe\n",
      "Processing Record 27 of Set 5 | tautira\n",
      "Processing Record 28 of Set 5 | labuhan\n",
      "Processing Record 29 of Set 5 | igrim\n",
      "Processing Record 30 of Set 5 | aras\n",
      "Processing Record 31 of Set 5 | murray bridge\n",
      "Processing Record 32 of Set 5 | egvekinot\n",
      "Processing Record 33 of Set 5 | jaisinghnagar\n",
      "Processing Record 34 of Set 5 | huarmey\n",
      "Processing Record 35 of Set 5 | vestmannaeyjar\n",
      "Processing Record 36 of Set 5 | kazachinskoye\n",
      "Processing Record 37 of Set 5 | thompson\n",
      "Processing Record 38 of Set 5 | humberto de campos\n",
      "Processing Record 39 of Set 5 | ranong\n",
      "Processing Record 40 of Set 5 | dunedin\n",
      "Processing Record 41 of Set 5 | madingou\n",
      "Processing Record 42 of Set 5 | takahagi\n",
      "Processing Record 43 of Set 5 | lebu\n",
      "Processing Record 44 of Set 5 | gewane\n",
      "Processing Record 45 of Set 5 | sumbawa\n",
      "City not found. Skipping...\n",
      "Processing Record 46 of Set 5 | mar del plata\n",
      "Processing Record 47 of Set 5 | hasaki\n",
      "Processing Record 48 of Set 5 | lodja\n",
      "Processing Record 49 of Set 5 | fukue\n",
      "Processing Record 0 of Set 6 | rocha\n",
      "Processing Record 1 of Set 6 | cam ranh\n",
      "Processing Record 2 of Set 6 | bosaso\n",
      "Processing Record 3 of Set 6 | nyurba\n",
      "Processing Record 4 of Set 6 | jabiru\n",
      "City not found. Skipping...\n",
      "Processing Record 5 of Set 6 | hervey bay\n",
      "Processing Record 6 of Set 6 | kargil\n",
      "Processing Record 7 of Set 6 | omboue\n",
      "Processing Record 8 of Set 6 | beloha\n",
      "Processing Record 9 of Set 6 | gumushane\n",
      "City not found. Skipping...\n",
      "Processing Record 10 of Set 6 | jumla\n",
      "Processing Record 11 of Set 6 | saint-louis\n",
      "Processing Record 12 of Set 6 | seoul\n",
      "Processing Record 13 of Set 6 | saint-pierre\n",
      "Processing Record 14 of Set 6 | ongandjera\n",
      "Processing Record 15 of Set 6 | sergeyevka\n",
      "Processing Record 16 of Set 6 | sweetwater\n",
      "Processing Record 17 of Set 6 | sakaiminato\n",
      "Processing Record 18 of Set 6 | nanakuli\n",
      "Processing Record 19 of Set 6 | turukhansk\n",
      "Processing Record 20 of Set 6 | achisay\n",
      "City not found. Skipping...\n",
      "Processing Record 21 of Set 6 | taoudenni\n",
      "Processing Record 22 of Set 6 | saint george\n",
      "Processing Record 23 of Set 6 | gonen\n",
      "Processing Record 24 of Set 6 | araguacu\n",
      "Processing Record 25 of Set 6 | avarua\n",
      "Processing Record 26 of Set 6 | foam lake\n",
      "Processing Record 27 of Set 6 | otjimbingwe\n",
      "Processing Record 28 of Set 6 | ust-kamchatsk\n",
      "City not found. Skipping...\n",
      "Processing Record 29 of Set 6 | beyneu\n",
      "Processing Record 30 of Set 6 | kalevala\n",
      "Processing Record 31 of Set 6 | viligili\n",
      "City not found. Skipping...\n",
      "Processing Record 32 of Set 6 | atambua\n",
      "Processing Record 33 of Set 6 | shuya\n",
      "Processing Record 34 of Set 6 | conceicao da barra\n",
      "Processing Record 35 of Set 6 | guanaja\n",
      "Processing Record 36 of Set 6 | hambantota\n",
      "Processing Record 37 of Set 6 | esperance\n",
      "Processing Record 38 of Set 6 | biltine\n",
      "Processing Record 39 of Set 6 | houma\n",
      "Processing Record 40 of Set 6 | beringovskiy\n",
      "Processing Record 41 of Set 6 | strelka\n",
      "Processing Record 42 of Set 6 | champerico\n",
      "Processing Record 43 of Set 6 | bandeirantes\n",
      "Processing Record 44 of Set 6 | bathsheba\n",
      "Processing Record 45 of Set 6 | fortuna\n",
      "Processing Record 46 of Set 6 | camacha\n",
      "Processing Record 47 of Set 6 | vila velha\n",
      "Processing Record 48 of Set 6 | grants pass\n",
      "Processing Record 49 of Set 6 | mullaitivu\n",
      "City not found. Skipping...\n",
      "Processing Record 0 of Set 7 | longyearbyen\n",
      "Processing Record 1 of Set 7 | tabuk\n",
      "Processing Record 2 of Set 7 | talnakh\n",
      "Processing Record 3 of Set 7 | porosozero\n",
      "Processing Record 4 of Set 7 | cidreira\n",
      "Processing Record 5 of Set 7 | jacareacanga\n",
      "Processing Record 6 of Set 7 | guerrero negro\n",
      "Processing Record 7 of Set 7 | maragogi\n",
      "Processing Record 8 of Set 7 | miles city\n",
      "Processing Record 9 of Set 7 | sao filipe\n",
      "Processing Record 10 of Set 7 | sur\n",
      "Processing Record 11 of Set 7 | ambon\n",
      "Processing Record 12 of Set 7 | sao felix do xingu\n",
      "Processing Record 13 of Set 7 | sajokaza\n",
      "Processing Record 14 of Set 7 | liepaja\n",
      "Processing Record 15 of Set 7 | karasjok\n",
      "Processing Record 16 of Set 7 | taunggyi\n",
      "Processing Record 17 of Set 7 | prince george\n",
      "Processing Record 18 of Set 7 | synya\n",
      "Processing Record 19 of Set 7 | skibbereen\n",
      "Processing Record 20 of Set 7 | puerto baquerizo moreno\n",
      "Processing Record 21 of Set 7 | guarapari\n",
      "Processing Record 22 of Set 7 | bukama\n",
      "Processing Record 23 of Set 7 | yuba city\n",
      "Processing Record 24 of Set 7 | pilao arcado\n",
      "City not found. Skipping...\n",
      "Processing Record 25 of Set 7 | xinmin\n",
      "Processing Record 26 of Set 7 | fatehpur\n",
      "Processing Record 27 of Set 7 | mozarlandia\n",
      "Processing Record 28 of Set 7 | saint anthony\n",
      "Processing Record 29 of Set 7 | nanortalik\n",
      "Processing Record 30 of Set 7 | angra\n",
      "City not found. Skipping...\n",
      "Processing Record 31 of Set 7 | umzimvubu\n",
      "City not found. Skipping...\n",
      "Processing Record 32 of Set 7 | mildura\n",
      "Processing Record 33 of Set 7 | hofn\n",
      "Processing Record 34 of Set 7 | caravelas\n",
      "Processing Record 35 of Set 7 | meulaboh\n",
      "Processing Record 36 of Set 7 | qaqortoq\n",
      "Processing Record 37 of Set 7 | umm lajj\n",
      "Processing Record 38 of Set 7 | ust-shonosha\n",
      "Processing Record 39 of Set 7 | port lincoln\n",
      "Processing Record 40 of Set 7 | bandarbeyla\n",
      "Processing Record 41 of Set 7 | bachaquero\n",
      "Processing Record 42 of Set 7 | mount darwin\n",
      "Processing Record 43 of Set 7 | mys shmidta\n",
      "City not found. Skipping...\n",
      "Processing Record 44 of Set 7 | york\n",
      "Processing Record 45 of Set 7 | keuruu\n",
      "Processing Record 46 of Set 7 | east london\n",
      "Processing Record 47 of Set 7 | zhigansk\n",
      "Processing Record 48 of Set 7 | dergachi\n",
      "Processing Record 49 of Set 7 | buraydah\n",
      "Processing Record 0 of Set 8 | falealupo\n",
      "City not found. Skipping...\n",
      "Processing Record 1 of Set 8 | nikolskoye\n",
      "Processing Record 2 of Set 8 | walvis bay\n",
      "Processing Record 3 of Set 8 | keti bandar\n",
      "Processing Record 4 of Set 8 | narasannapeta\n",
      "Processing Record 5 of Set 8 | upington\n",
      "Processing Record 6 of Set 8 | that phanom\n",
      "Processing Record 7 of Set 8 | khani\n",
      "Processing Record 8 of Set 8 | komsomolskiy\n",
      "Processing Record 9 of Set 8 | oda\n",
      "Processing Record 10 of Set 8 | mayachnyy\n",
      "Processing Record 11 of Set 8 | iberia\n",
      "Processing Record 12 of Set 8 | carnarvon\n",
      "Processing Record 13 of Set 8 | inta\n",
      "Processing Record 14 of Set 8 | pasinler\n",
      "Processing Record 15 of Set 8 | kongolo\n",
      "Processing Record 16 of Set 8 | srednekolymsk\n",
      "Processing Record 17 of Set 8 | ilulissat\n",
      "Processing Record 18 of Set 8 | moerai\n",
      "Processing Record 19 of Set 8 | linfen\n",
      "Processing Record 20 of Set 8 | uyuni\n",
      "Processing Record 21 of Set 8 | muisne\n",
      "Processing Record 22 of Set 8 | papillion\n",
      "Processing Record 23 of Set 8 | clyde river\n",
      "Processing Record 24 of Set 8 | tumannyy\n"
     ]
    },
    {
     "name": "stdout",
     "output_type": "stream",
     "text": [
      "City not found. Skipping...\n",
      "Processing Record 25 of Set 8 | cayenne\n",
      "Processing Record 26 of Set 8 | truth or consequences\n",
      "Processing Record 27 of Set 8 | pithapuram\n",
      "Processing Record 28 of Set 8 | berbera\n",
      "Processing Record 29 of Set 8 | saint-augustin\n",
      "Processing Record 30 of Set 8 | barawe\n",
      "City not found. Skipping...\n",
      "Processing Record 31 of Set 8 | kui buri\n",
      "Processing Record 32 of Set 8 | batangafo\n",
      "Processing Record 33 of Set 8 | san patricio\n",
      "Processing Record 34 of Set 8 | shimanovsk\n",
      "Processing Record 35 of Set 8 | fort frances\n",
      "Processing Record 36 of Set 8 | shirokiy\n",
      "Processing Record 37 of Set 8 | filadelfia\n",
      "Processing Record 38 of Set 8 | farmington\n",
      "Processing Record 39 of Set 8 | manggar\n",
      "Processing Record 40 of Set 8 | pashiya\n",
      "Processing Record 41 of Set 8 | ankeny\n",
      "Processing Record 42 of Set 8 | wysokie mazowieckie\n",
      "Processing Record 43 of Set 8 | tuatapere\n",
      "Processing Record 44 of Set 8 | boma\n",
      "Processing Record 45 of Set 8 | copiapo\n",
      "Processing Record 46 of Set 8 | arlit\n",
      "Processing Record 47 of Set 8 | acajutla\n",
      "Processing Record 48 of Set 8 | flinders\n",
      "Processing Record 49 of Set 8 | manta\n",
      "Processing Record 0 of Set 9 | abu samrah\n",
      "Processing Record 1 of Set 9 | lichtenfels\n",
      "Processing Record 2 of Set 9 | mersing\n",
      "Processing Record 3 of Set 9 | westport\n",
      "Processing Record 4 of Set 9 | puerto penasco\n",
      "Processing Record 5 of Set 9 | cocobeach\n",
      "Processing Record 6 of Set 9 | alencon\n",
      "Processing Record 7 of Set 9 | grand gaube\n",
      "Processing Record 8 of Set 9 | skjervoy\n",
      "Processing Record 9 of Set 9 | atasu\n",
      "Processing Record 10 of Set 9 | norman wells\n",
      "Processing Record 11 of Set 9 | nizhneyansk\n",
      "City not found. Skipping...\n",
      "Processing Record 12 of Set 9 | tomatlan\n",
      "Processing Record 13 of Set 9 | sentyabrskiy\n",
      "City not found. Skipping...\n",
      "Processing Record 14 of Set 9 | ramshir\n",
      "Processing Record 15 of Set 9 | abu kamal\n",
      "Processing Record 16 of Set 9 | bansi\n",
      "Processing Record 17 of Set 9 | lata\n",
      "Processing Record 18 of Set 9 | mitsamiouli\n",
      "Processing Record 19 of Set 9 | vagay\n",
      "Processing Record 20 of Set 9 | ballina\n",
      "Processing Record 21 of Set 9 | gizo\n",
      "Processing Record 22 of Set 9 | ayr\n",
      "Processing Record 23 of Set 9 | garmsar\n",
      "Processing Record 24 of Set 9 | concepcion del uruguay\n",
      "Processing Record 25 of Set 9 | ozgon\n",
      "City not found. Skipping...\n",
      "Processing Record 26 of Set 9 | ravar\n",
      "Processing Record 27 of Set 9 | umm durman\n",
      "City not found. Skipping...\n",
      "Processing Record 28 of Set 9 | acapulco\n",
      "Processing Record 29 of Set 9 | coos bay\n",
      "Processing Record 30 of Set 9 | isangel\n",
      "Processing Record 31 of Set 9 | ewa beach\n",
      "Processing Record 32 of Set 9 | aksarayskiy\n",
      "Processing Record 33 of Set 9 | urusha\n",
      "Processing Record 34 of Set 9 | mangrol\n",
      "Processing Record 35 of Set 9 | santa lucia\n",
      "Processing Record 36 of Set 9 | amarillo\n",
      "Processing Record 37 of Set 9 | hearst\n",
      "Processing Record 38 of Set 9 | conde\n",
      "Processing Record 39 of Set 9 | chelbasskaya\n",
      "Processing Record 40 of Set 9 | touros\n",
      "Processing Record 41 of Set 9 | danilovka\n",
      "Processing Record 42 of Set 9 | kerema\n",
      "Processing Record 43 of Set 9 | mayo\n",
      "Processing Record 44 of Set 9 | teguldet\n",
      "Processing Record 45 of Set 9 | sars\n",
      "Processing Record 46 of Set 9 | beira\n",
      "Processing Record 47 of Set 9 | pantai remis\n",
      "Processing Record 48 of Set 9 | omsukchan\n",
      "Processing Record 49 of Set 9 | mount gambier\n",
      "Processing Record 0 of Set 10 | fare\n",
      "Processing Record 1 of Set 10 | damietta\n",
      "Processing Record 2 of Set 10 | gilgit\n",
      "Processing Record 3 of Set 10 | norsup\n",
      "Processing Record 4 of Set 10 | kandrian\n",
      "Processing Record 5 of Set 10 | ayagoz\n",
      "Processing Record 6 of Set 10 | sabang\n",
      "Processing Record 7 of Set 10 | susuman\n",
      "Processing Record 8 of Set 10 | vila do maio\n",
      "Processing Record 9 of Set 10 | saint-francois\n",
      "Processing Record 10 of Set 10 | anshun\n",
      "Processing Record 11 of Set 10 | sorland\n",
      "Processing Record 12 of Set 10 | san policarpo\n",
      "Processing Record 13 of Set 10 | fershampenuaz\n",
      "Processing Record 14 of Set 10 | minot\n",
      "Processing Record 15 of Set 10 | tarancon\n",
      "Processing Record 16 of Set 10 | pundaguitan\n",
      "Processing Record 17 of Set 10 | romny\n",
      "Processing Record 18 of Set 10 | iranshahr\n",
      "Processing Record 19 of Set 10 | deputatskiy\n",
      "Processing Record 20 of Set 10 | krasnorechenskiy\n",
      "Processing Record 21 of Set 10 | puerto ayacucho\n",
      "Processing Record 22 of Set 10 | kanuma\n",
      "Processing Record 23 of Set 10 | mae sai\n",
      "Processing Record 24 of Set 10 | portland\n",
      "Processing Record 25 of Set 10 | khairagarh\n",
      "Processing Record 26 of Set 10 | saint-joseph\n",
      "Processing Record 27 of Set 10 | balykshi\n",
      "Processing Record 28 of Set 10 | cap malheureux\n",
      "Processing Record 29 of Set 10 | micheweni\n",
      "Processing Record 30 of Set 10 | hvittingfoss\n",
      "Processing Record 31 of Set 10 | venado tuerto\n",
      "Processing Record 32 of Set 10 | codrington\n",
      "Processing Record 33 of Set 10 | alyangula\n",
      "Processing Record 34 of Set 10 | yuzhno-kurilsk\n",
      "Processing Record 35 of Set 10 | khorinsk\n",
      "Processing Record 36 of Set 10 | geresk\n",
      "City not found. Skipping...\n",
      "Processing Record 37 of Set 10 | wanaka\n",
      "Processing Record 38 of Set 10 | bilibino\n",
      "Processing Record 39 of Set 10 | awbari\n",
      "Processing Record 40 of Set 10 | la gomera\n",
      "Processing Record 41 of Set 10 | coihaique\n",
      "Processing Record 42 of Set 10 | san jeronimo\n",
      "Processing Record 43 of Set 10 | santiago del estero\n",
      "Processing Record 44 of Set 10 | cairns\n",
      "Processing Record 45 of Set 10 | thanh hoa\n",
      "Processing Record 46 of Set 10 | kamenskoye\n",
      "City not found. Skipping...\n",
      "Processing Record 47 of Set 10 | tefe\n",
      "Processing Record 48 of Set 10 | russell\n",
      "Processing Record 49 of Set 10 | shingu\n",
      "Processing Record 0 of Set 11 | gunjur\n",
      "Processing Record 1 of Set 11 | pisco\n",
      "Processing Record 2 of Set 11 | klyuchi\n",
      "Processing Record 3 of Set 11 | karaton\n",
      "Processing Record 4 of Set 11 | akyab\n",
      "Processing Record 5 of Set 11 | waitati\n",
      "Processing Record 6 of Set 11 | sharjah\n",
      "Processing Record 7 of Set 11 | anadyr\n",
      "Processing Record 8 of Set 11 | axim\n",
      "Processing Record 9 of Set 11 | tshikapa\n",
      "Processing Record 10 of Set 11 | petapa\n",
      "Processing Record 11 of Set 11 | vilani\n",
      "Processing Record 12 of Set 11 | sokoto\n",
      "Processing Record 13 of Set 11 | visby\n",
      "Processing Record 14 of Set 11 | maddela\n",
      "Processing Record 15 of Set 11 | leh\n",
      "Processing Record 16 of Set 11 | timra\n",
      "Processing Record 17 of Set 11 | brae\n",
      "Processing Record 18 of Set 11 | nguiu\n",
      "City not found. Skipping...\n",
      "Processing Record 19 of Set 11 | la mira\n",
      "Processing Record 20 of Set 11 | kavarna\n",
      "Processing Record 21 of Set 11 | coquimbo\n",
      "Processing Record 22 of Set 11 | ambodifototra\n",
      "City not found. Skipping...\n",
      "Processing Record 23 of Set 11 | joshimath\n",
      "Processing Record 24 of Set 11 | korla\n",
      "Processing Record 25 of Set 11 | hazorasp\n",
      "Processing Record 26 of Set 11 | astoria\n",
      "Processing Record 27 of Set 11 | samusu\n",
      "City not found. Skipping...\n",
      "Processing Record 28 of Set 11 | phan thiet\n",
      "Processing Record 29 of Set 11 | butembo\n",
      "Processing Record 30 of Set 11 | virginia beach\n",
      "Processing Record 31 of Set 11 | tual\n",
      "Processing Record 32 of Set 11 | rio grande\n",
      "Processing Record 33 of Set 11 | makakilo city\n",
      "Processing Record 34 of Set 11 | nur\n",
      "Processing Record 35 of Set 11 | palmer\n",
      "Processing Record 36 of Set 11 | nha trang\n",
      "Processing Record 37 of Set 11 | yar-sale\n",
      "Processing Record 38 of Set 11 | avera\n",
      "Processing Record 39 of Set 11 | outjo\n",
      "Processing Record 40 of Set 11 | mandalgovi\n",
      "Processing Record 41 of Set 11 | namanyere\n",
      "Processing Record 42 of Set 11 | zlatoustovsk\n",
      "City not found. Skipping...\n",
      "Processing Record 43 of Set 11 | alpena\n",
      "Processing Record 44 of Set 11 | likasi\n",
      "Processing Record 45 of Set 11 | bardiyah\n",
      "Processing Record 46 of Set 11 | college\n",
      "Processing Record 47 of Set 11 | kargasok\n",
      "Processing Record 48 of Set 11 | salinopolis\n",
      "Processing Record 49 of Set 11 | yerkoy\n",
      "Processing Record 0 of Set 12 | north bend\n",
      "Processing Record 1 of Set 12 | ribeira brava\n",
      "Processing Record 2 of Set 12 | geraldton\n",
      "Processing Record 3 of Set 12 | terney\n",
      "Processing Record 4 of Set 12 | ostrovnoy\n",
      "Processing Record 5 of Set 12 | kembe\n",
      "Processing Record 6 of Set 12 | nemuro\n",
      "Processing Record 7 of Set 12 | marzuq\n",
      "Processing Record 8 of Set 12 | mercedes\n",
      "Processing Record 9 of Set 12 | ntcheu\n",
      "Processing Record 10 of Set 12 | crotone\n",
      "Processing Record 11 of Set 12 | tazovskiy\n",
      "Processing Record 12 of Set 12 | tafresh\n",
      "Processing Record 13 of Set 12 | pochutla\n"
     ]
    },
    {
     "name": "stdout",
     "output_type": "stream",
     "text": [
      "Processing Record 14 of Set 12 | pacific grove\n",
      "Processing Record 15 of Set 12 | mattru\n",
      "Processing Record 16 of Set 12 | son la\n",
      "Processing Record 17 of Set 12 | kushiro\n",
      "Processing Record 18 of Set 12 | gilazi\n",
      "City not found. Skipping...\n",
      "Processing Record 19 of Set 12 | jimma\n",
      "Processing Record 20 of Set 12 | bubaque\n",
      "Processing Record 21 of Set 12 | wuwei\n",
      "Processing Record 22 of Set 12 | iqaluit\n",
      "Processing Record 23 of Set 12 | veraval\n",
      "Processing Record 24 of Set 12 | porto nacional\n",
      "Processing Record 25 of Set 12 | kahului\n",
      "Processing Record 26 of Set 12 | kysyl-syr\n",
      "Processing Record 27 of Set 12 | verkhoyansk\n",
      "Processing Record 28 of Set 12 | jaisalmer\n",
      "Processing Record 29 of Set 12 | taboga\n",
      "Processing Record 30 of Set 12 | teremia mare\n",
      "Processing Record 31 of Set 12 | shenjiamen\n",
      "Processing Record 32 of Set 12 | mabaruma\n",
      "Processing Record 33 of Set 12 | aripuana\n",
      "Processing Record 34 of Set 12 | quelimane\n",
      "Processing Record 35 of Set 12 | batagay-alyta\n",
      "Processing Record 36 of Set 12 | aksarka\n",
      "Processing Record 37 of Set 12 | castellarano\n",
      "Processing Record 38 of Set 12 | tabursuq\n",
      "Processing Record 39 of Set 12 | chimoio\n",
      "Processing Record 40 of Set 12 | marrakesh\n",
      "Processing Record 41 of Set 12 | hualmay\n",
      "Processing Record 42 of Set 12 | ayios matthaios\n",
      "City not found. Skipping...\n",
      "Processing Record 43 of Set 12 | kastrakion\n",
      "Processing Record 44 of Set 12 | attawapiskat\n",
      "City not found. Skipping...\n",
      "Processing Record 45 of Set 12 | valdosta\n",
      "Processing Record 46 of Set 12 | majene\n",
      "Processing Record 47 of Set 12 | ankara\n",
      "Processing Record 48 of Set 12 | pasighat\n",
      "Processing Record 49 of Set 12 | gore\n",
      "Processing Record 0 of Set 13 | teeli\n",
      "Processing Record 1 of Set 13 | kazalinsk\n",
      "City not found. Skipping...\n",
      "Processing Record 2 of Set 13 | toamasina\n",
      "Processing Record 3 of Set 13 | san joaquin\n",
      "Processing Record 4 of Set 13 | tapiramuta\n",
      "Processing Record 5 of Set 13 | agadir\n",
      "Processing Record 6 of Set 13 | belcista\n",
      "Processing Record 7 of Set 13 | bud\n",
      "Processing Record 8 of Set 13 | husavik\n",
      "Processing Record 9 of Set 13 | jalu\n",
      "Processing Record 10 of Set 13 | rovaniemi\n",
      "Processing Record 11 of Set 13 | buala\n",
      "Processing Record 12 of Set 13 | sturgeon falls\n",
      "Processing Record 13 of Set 13 | nouadhibou\n",
      "Processing Record 14 of Set 13 | batemans bay\n",
      "Processing Record 15 of Set 13 | juneau\n",
      "Processing Record 16 of Set 13 | belyy yar\n",
      "Processing Record 17 of Set 13 | andenes\n",
      "Processing Record 18 of Set 13 | hrebinka\n",
      "Processing Record 19 of Set 13 | warqla\n",
      "City not found. Skipping...\n",
      "Processing Record 20 of Set 13 | dwarka\n",
      "Processing Record 21 of Set 13 | zhaotong\n",
      "Processing Record 22 of Set 13 | dingle\n",
      "Processing Record 23 of Set 13 | dabat\n",
      "Processing Record 24 of Set 13 | cap-aux-meules\n",
      "Processing Record 25 of Set 13 | banjar\n",
      "Processing Record 26 of Set 13 | galveston\n",
      "Processing Record 27 of Set 13 | lazaro cardenas\n",
      "-----------------------------\n",
      "Data Retrieval Complete      \n",
      "-----------------------------\n"
     ]
    }
   ],
   "source": [
    "# Set the API base URL\n",
    "url = \"http://api.openweathermap.org/data/2.5/weather?units=Imperial&APPID=\" + weather_api_key\n",
    "\n",
    "# Define an empty list to fetch the weather data for each city\n",
    "city_data = []\n",
    "\n",
    "# Print to logger\n",
    "print(\"Beginning Data Retrieval     \")\n",
    "print(\"-----------------------------\")\n",
    "\n",
    "# Create counters\n",
    "record_count = 1\n",
    "set_count = 1\n",
    "\n",
    "# Loop through all the cities in our list to fetch weather data\n",
    "for i, city in enumerate(cities):\n",
    "        \n",
    "    # Group cities in sets of 50 for logging purposes\n",
    "    if (i % 50 == 0 and i >= 50):\n",
    "        set_count += 1\n",
    "        record_count = 0\n",
    "\n",
    "    # Create endpoint URL with each city\n",
    "    city_url =  url + \"&q=\" + city.replace(\" \",\"+\")\n",
    "    \n",
    "    # Log the url, record, and set numbers\n",
    "    print(\"Processing Record %s of Set %s | %s\" % (record_count, set_count, city))\n",
    "\n",
    "    # Add 1 to the record count\n",
    "    record_count += 1\n",
    "\n",
    "    # Run an API request for each of the cities\n",
    "    try:\n",
    "        # Parse the JSON and retrieve data \n",
    "        city_weather = requests.get(city_url).json()\n",
    "\n",
    "        # Parse out latitude, longitude, max temp, humidity, cloudiness, wind speed, country, and date\n",
    "        city_lat = city_weather[\"coord\"][\"lat\"]\n",
    "        city_lng = city_weather[\"coord\"][\"lon\"]\n",
    "        city_max_temp = city_weather[\"main\"][\"temp_max\"]\n",
    "        city_humidity = city_weather[\"main\"][\"humidity\"]\n",
    "        city_clouds = city_weather[\"clouds\"][\"all\"]\n",
    "        city_wind = city_weather[\"wind\"][\"speed\"]\n",
    "        city_country = city_weather[\"sys\"][\"country\"]\n",
    "        city_date = city_weather[\"dt\"]\n",
    "\n",
    "        # Append the City information into city_data list\n",
    "        city_data.append({\"City\": city, \n",
    "                          \"Lat\": city_lat, \n",
    "                          \"Lng\": city_lng, \n",
    "                          \"Max Temp\": city_max_temp,\n",
    "                          \"Humidity\": city_humidity,\n",
    "                          \"Cloudiness\": city_clouds,\n",
    "                          \"Wind Speed\": city_wind,\n",
    "                          \"Country\": city_country,\n",
    "                          \"Date\": city_date})\n",
    "\n",
    "    # If an error is experienced, skip the city\n",
    "    except:\n",
    "        print(\"City not found. Skipping...\")\n",
    "        pass\n",
    "              \n",
    "# Indicate that Data Loading is complete \n",
    "print(\"-----------------------------\")\n",
    "print(\"Data Retrieval Complete      \")\n",
    "print(\"-----------------------------\")\n"
   ]
  },
  {
   "cell_type": "code",
   "execution_count": 119,
   "metadata": {},
   "outputs": [
    {
     "data": {
      "text/html": [
       "<div>\n",
       "<style scoped>\n",
       "    .dataframe tbody tr th:only-of-type {\n",
       "        vertical-align: middle;\n",
       "    }\n",
       "\n",
       "    .dataframe tbody tr th {\n",
       "        vertical-align: top;\n",
       "    }\n",
       "\n",
       "    .dataframe thead th {\n",
       "        text-align: right;\n",
       "    }\n",
       "</style>\n",
       "<table border=\"1\" class=\"dataframe\">\n",
       "  <thead>\n",
       "    <tr style=\"text-align: right;\">\n",
       "      <th></th>\n",
       "      <th>City</th>\n",
       "      <th>Lat</th>\n",
       "      <th>Lng</th>\n",
       "      <th>Max Temp</th>\n",
       "      <th>Humidity</th>\n",
       "      <th>Cloudiness</th>\n",
       "      <th>Wind Speed</th>\n",
       "      <th>Country</th>\n",
       "      <th>Date</th>\n",
       "    </tr>\n",
       "  </thead>\n",
       "  <tbody>\n",
       "    <tr>\n",
       "      <th>0</th>\n",
       "      <td>upernavik</td>\n",
       "      <td>72.7868</td>\n",
       "      <td>-56.1549</td>\n",
       "      <td>16.52</td>\n",
       "      <td>87</td>\n",
       "      <td>100</td>\n",
       "      <td>9.17</td>\n",
       "      <td>GL</td>\n",
       "      <td>1668907471</td>\n",
       "    </tr>\n",
       "    <tr>\n",
       "      <th>1</th>\n",
       "      <td>leningradskiy</td>\n",
       "      <td>69.3833</td>\n",
       "      <td>178.4167</td>\n",
       "      <td>-12.87</td>\n",
       "      <td>98</td>\n",
       "      <td>100</td>\n",
       "      <td>5.75</td>\n",
       "      <td>RU</td>\n",
       "      <td>1668907471</td>\n",
       "    </tr>\n",
       "    <tr>\n",
       "      <th>2</th>\n",
       "      <td>pevek</td>\n",
       "      <td>69.7008</td>\n",
       "      <td>170.3133</td>\n",
       "      <td>-16.73</td>\n",
       "      <td>100</td>\n",
       "      <td>99</td>\n",
       "      <td>7.58</td>\n",
       "      <td>RU</td>\n",
       "      <td>1668907471</td>\n",
       "    </tr>\n",
       "    <tr>\n",
       "      <th>3</th>\n",
       "      <td>port augusta</td>\n",
       "      <td>-32.5000</td>\n",
       "      <td>137.7667</td>\n",
       "      <td>69.30</td>\n",
       "      <td>32</td>\n",
       "      <td>6</td>\n",
       "      <td>18.54</td>\n",
       "      <td>AU</td>\n",
       "      <td>1668907472</td>\n",
       "    </tr>\n",
       "    <tr>\n",
       "      <th>4</th>\n",
       "      <td>bonavista</td>\n",
       "      <td>48.6499</td>\n",
       "      <td>-53.1147</td>\n",
       "      <td>34.36</td>\n",
       "      <td>62</td>\n",
       "      <td>46</td>\n",
       "      <td>20.80</td>\n",
       "      <td>CA</td>\n",
       "      <td>1668907473</td>\n",
       "    </tr>\n",
       "    <tr>\n",
       "      <th>...</th>\n",
       "      <td>...</td>\n",
       "      <td>...</td>\n",
       "      <td>...</td>\n",
       "      <td>...</td>\n",
       "      <td>...</td>\n",
       "      <td>...</td>\n",
       "      <td>...</td>\n",
       "      <td>...</td>\n",
       "      <td>...</td>\n",
       "    </tr>\n",
       "    <tr>\n",
       "      <th>573</th>\n",
       "      <td>dabat</td>\n",
       "      <td>12.9842</td>\n",
       "      <td>37.7650</td>\n",
       "      <td>53.04</td>\n",
       "      <td>59</td>\n",
       "      <td>6</td>\n",
       "      <td>4.41</td>\n",
       "      <td>ET</td>\n",
       "      <td>1668907755</td>\n",
       "    </tr>\n",
       "    <tr>\n",
       "      <th>574</th>\n",
       "      <td>cap-aux-meules</td>\n",
       "      <td>47.3821</td>\n",
       "      <td>-61.8597</td>\n",
       "      <td>28.45</td>\n",
       "      <td>74</td>\n",
       "      <td>20</td>\n",
       "      <td>5.75</td>\n",
       "      <td>CA</td>\n",
       "      <td>1668907757</td>\n",
       "    </tr>\n",
       "    <tr>\n",
       "      <th>575</th>\n",
       "      <td>banjar</td>\n",
       "      <td>-8.1900</td>\n",
       "      <td>114.9675</td>\n",
       "      <td>84.13</td>\n",
       "      <td>70</td>\n",
       "      <td>91</td>\n",
       "      <td>3.29</td>\n",
       "      <td>ID</td>\n",
       "      <td>1668907758</td>\n",
       "    </tr>\n",
       "    <tr>\n",
       "      <th>576</th>\n",
       "      <td>galveston</td>\n",
       "      <td>29.3669</td>\n",
       "      <td>-94.9669</td>\n",
       "      <td>46.49</td>\n",
       "      <td>91</td>\n",
       "      <td>100</td>\n",
       "      <td>1.99</td>\n",
       "      <td>US</td>\n",
       "      <td>1668907758</td>\n",
       "    </tr>\n",
       "    <tr>\n",
       "      <th>577</th>\n",
       "      <td>lazaro cardenas</td>\n",
       "      <td>17.9583</td>\n",
       "      <td>-102.2000</td>\n",
       "      <td>78.66</td>\n",
       "      <td>78</td>\n",
       "      <td>98</td>\n",
       "      <td>4.70</td>\n",
       "      <td>MX</td>\n",
       "      <td>1668907732</td>\n",
       "    </tr>\n",
       "  </tbody>\n",
       "</table>\n",
       "<p>578 rows × 9 columns</p>\n",
       "</div>"
      ],
      "text/plain": [
       "                City      Lat       Lng  Max Temp  Humidity  Cloudiness  \\\n",
       "0          upernavik  72.7868  -56.1549     16.52        87         100   \n",
       "1      leningradskiy  69.3833  178.4167    -12.87        98         100   \n",
       "2              pevek  69.7008  170.3133    -16.73       100          99   \n",
       "3       port augusta -32.5000  137.7667     69.30        32           6   \n",
       "4          bonavista  48.6499  -53.1147     34.36        62          46   \n",
       "..               ...      ...       ...       ...       ...         ...   \n",
       "573            dabat  12.9842   37.7650     53.04        59           6   \n",
       "574   cap-aux-meules  47.3821  -61.8597     28.45        74          20   \n",
       "575           banjar  -8.1900  114.9675     84.13        70          91   \n",
       "576        galveston  29.3669  -94.9669     46.49        91         100   \n",
       "577  lazaro cardenas  17.9583 -102.2000     78.66        78          98   \n",
       "\n",
       "     Wind Speed Country        Date  \n",
       "0          9.17      GL  1668907471  \n",
       "1          5.75      RU  1668907471  \n",
       "2          7.58      RU  1668907471  \n",
       "3         18.54      AU  1668907472  \n",
       "4         20.80      CA  1668907473  \n",
       "..          ...     ...         ...  \n",
       "573        4.41      ET  1668907755  \n",
       "574        5.75      CA  1668907757  \n",
       "575        3.29      ID  1668907758  \n",
       "576        1.99      US  1668907758  \n",
       "577        4.70      MX  1668907732  \n",
       "\n",
       "[578 rows x 9 columns]"
      ]
     },
     "execution_count": 119,
     "metadata": {},
     "output_type": "execute_result"
    }
   ],
   "source": [
    "city_data_df = pd.DataFrame(city_data)\n",
    "city_data_df"
   ]
  },
  {
   "cell_type": "code",
   "execution_count": 120,
   "metadata": {},
   "outputs": [
    {
     "data": {
      "text/html": [
       "<div>\n",
       "<style scoped>\n",
       "    .dataframe tbody tr th:only-of-type {\n",
       "        vertical-align: middle;\n",
       "    }\n",
       "\n",
       "    .dataframe tbody tr th {\n",
       "        vertical-align: top;\n",
       "    }\n",
       "\n",
       "    .dataframe thead th {\n",
       "        text-align: right;\n",
       "    }\n",
       "</style>\n",
       "<table border=\"1\" class=\"dataframe\">\n",
       "  <thead>\n",
       "    <tr style=\"text-align: right;\">\n",
       "      <th></th>\n",
       "      <th>Lat</th>\n",
       "      <th>Lng</th>\n",
       "      <th>Max Temp</th>\n",
       "      <th>Humidity</th>\n",
       "      <th>Cloudiness</th>\n",
       "      <th>Wind Speed</th>\n",
       "      <th>Date</th>\n",
       "    </tr>\n",
       "  </thead>\n",
       "  <tbody>\n",
       "    <tr>\n",
       "      <th>count</th>\n",
       "      <td>578.000000</td>\n",
       "      <td>578.000000</td>\n",
       "      <td>578.000000</td>\n",
       "      <td>578.000000</td>\n",
       "      <td>578.000000</td>\n",
       "      <td>578.000000</td>\n",
       "      <td>5.780000e+02</td>\n",
       "    </tr>\n",
       "    <tr>\n",
       "      <th>mean</th>\n",
       "      <td>21.342156</td>\n",
       "      <td>17.633142</td>\n",
       "      <td>51.500381</td>\n",
       "      <td>74.228374</td>\n",
       "      <td>58.778547</td>\n",
       "      <td>7.425294</td>\n",
       "      <td>1.668908e+09</td>\n",
       "    </tr>\n",
       "    <tr>\n",
       "      <th>std</th>\n",
       "      <td>32.994917</td>\n",
       "      <td>90.605705</td>\n",
       "      <td>27.046243</td>\n",
       "      <td>19.183139</td>\n",
       "      <td>42.213078</td>\n",
       "      <td>5.920624</td>\n",
       "      <td>1.002285e+02</td>\n",
       "    </tr>\n",
       "    <tr>\n",
       "      <th>min</th>\n",
       "      <td>-54.800000</td>\n",
       "      <td>-179.166700</td>\n",
       "      <td>-29.130000</td>\n",
       "      <td>9.000000</td>\n",
       "      <td>0.000000</td>\n",
       "      <td>0.000000</td>\n",
       "      <td>1.668907e+09</td>\n",
       "    </tr>\n",
       "    <tr>\n",
       "      <th>25%</th>\n",
       "      <td>-6.312350</td>\n",
       "      <td>-59.716650</td>\n",
       "      <td>33.817500</td>\n",
       "      <td>62.250000</td>\n",
       "      <td>9.250000</td>\n",
       "      <td>3.247500</td>\n",
       "      <td>1.668908e+09</td>\n",
       "    </tr>\n",
       "    <tr>\n",
       "      <th>50%</th>\n",
       "      <td>26.939900</td>\n",
       "      <td>24.908950</td>\n",
       "      <td>59.070000</td>\n",
       "      <td>78.000000</td>\n",
       "      <td>75.000000</td>\n",
       "      <td>5.750000</td>\n",
       "      <td>1.668908e+09</td>\n",
       "    </tr>\n",
       "    <tr>\n",
       "      <th>75%</th>\n",
       "      <td>48.170100</td>\n",
       "      <td>92.522575</td>\n",
       "      <td>73.435000</td>\n",
       "      <td>89.000000</td>\n",
       "      <td>100.000000</td>\n",
       "      <td>9.930000</td>\n",
       "      <td>1.668908e+09</td>\n",
       "    </tr>\n",
       "    <tr>\n",
       "      <th>max</th>\n",
       "      <td>78.218600</td>\n",
       "      <td>179.316700</td>\n",
       "      <td>89.920000</td>\n",
       "      <td>100.000000</td>\n",
       "      <td>100.000000</td>\n",
       "      <td>45.990000</td>\n",
       "      <td>1.668908e+09</td>\n",
       "    </tr>\n",
       "  </tbody>\n",
       "</table>\n",
       "</div>"
      ],
      "text/plain": [
       "              Lat         Lng    Max Temp    Humidity  Cloudiness  Wind Speed  \\\n",
       "count  578.000000  578.000000  578.000000  578.000000  578.000000  578.000000   \n",
       "mean    21.342156   17.633142   51.500381   74.228374   58.778547    7.425294   \n",
       "std     32.994917   90.605705   27.046243   19.183139   42.213078    5.920624   \n",
       "min    -54.800000 -179.166700  -29.130000    9.000000    0.000000    0.000000   \n",
       "25%     -6.312350  -59.716650   33.817500   62.250000    9.250000    3.247500   \n",
       "50%     26.939900   24.908950   59.070000   78.000000   75.000000    5.750000   \n",
       "75%     48.170100   92.522575   73.435000   89.000000  100.000000    9.930000   \n",
       "max     78.218600  179.316700   89.920000  100.000000  100.000000   45.990000   \n",
       "\n",
       "               Date  \n",
       "count  5.780000e+02  \n",
       "mean   1.668908e+09  \n",
       "std    1.002285e+02  \n",
       "min    1.668907e+09  \n",
       "25%    1.668908e+09  \n",
       "50%    1.668908e+09  \n",
       "75%    1.668908e+09  \n",
       "max    1.668908e+09  "
      ]
     },
     "execution_count": 120,
     "metadata": {},
     "output_type": "execute_result"
    }
   ],
   "source": [
    "count = city_data_df.describe()\n",
    "count"
   ]
  },
  {
   "cell_type": "markdown",
   "metadata": {},
   "source": [
    "## Inspect the data and remove the cities where the humidity > 100%.\n",
    "----\n",
    "Skip this step if there are no cities that have humidity > 100%. "
   ]
  },
  {
   "cell_type": "code",
   "execution_count": 121,
   "metadata": {},
   "outputs": [
    {
     "data": {
      "text/html": [
       "<div>\n",
       "<style scoped>\n",
       "    .dataframe tbody tr th:only-of-type {\n",
       "        vertical-align: middle;\n",
       "    }\n",
       "\n",
       "    .dataframe tbody tr th {\n",
       "        vertical-align: top;\n",
       "    }\n",
       "\n",
       "    .dataframe thead th {\n",
       "        text-align: right;\n",
       "    }\n",
       "</style>\n",
       "<table border=\"1\" class=\"dataframe\">\n",
       "  <thead>\n",
       "    <tr style=\"text-align: right;\">\n",
       "      <th></th>\n",
       "      <th>City</th>\n",
       "      <th>Lat</th>\n",
       "      <th>Lng</th>\n",
       "      <th>Max Temp</th>\n",
       "      <th>Humidity</th>\n",
       "      <th>Cloudiness</th>\n",
       "      <th>Wind Speed</th>\n",
       "      <th>Country</th>\n",
       "      <th>Date</th>\n",
       "    </tr>\n",
       "  </thead>\n",
       "  <tbody>\n",
       "  </tbody>\n",
       "</table>\n",
       "</div>"
      ],
      "text/plain": [
       "Empty DataFrame\n",
       "Columns: [City, Lat, Lng, Max Temp, Humidity, Cloudiness, Wind Speed, Country, Date]\n",
       "Index: []"
      ]
     },
     "execution_count": 121,
     "metadata": {},
     "output_type": "execute_result"
    }
   ],
   "source": [
    "low_humidity = city_data_df.loc[(city_data_df[\"Humidity\"] > 100)]\n",
    "low_humidity\n",
    "#new_data = cities_df[cities_df[\"City\"] != \"paita\"]\n",
    "#new_data.describe()"
   ]
  },
  {
   "cell_type": "code",
   "execution_count": 122,
   "metadata": {},
   "outputs": [
    {
     "data": {
      "text/plain": [
       "Int64Index([], dtype='int64')"
      ]
     },
     "execution_count": 122,
     "metadata": {},
     "output_type": "execute_result"
    }
   ],
   "source": [
    "#  Get the indices of cities that have humidity over 100%.\n",
    "humidity_data = low_humidity.index\n",
    "humidity_data"
   ]
  },
  {
   "cell_type": "code",
   "execution_count": 123,
   "metadata": {},
   "outputs": [
    {
     "data": {
      "text/html": [
       "<div>\n",
       "<style scoped>\n",
       "    .dataframe tbody tr th:only-of-type {\n",
       "        vertical-align: middle;\n",
       "    }\n",
       "\n",
       "    .dataframe tbody tr th {\n",
       "        vertical-align: top;\n",
       "    }\n",
       "\n",
       "    .dataframe thead th {\n",
       "        text-align: right;\n",
       "    }\n",
       "</style>\n",
       "<table border=\"1\" class=\"dataframe\">\n",
       "  <thead>\n",
       "    <tr style=\"text-align: right;\">\n",
       "      <th></th>\n",
       "      <th>City</th>\n",
       "      <th>Lat</th>\n",
       "      <th>Lng</th>\n",
       "      <th>Max Temp</th>\n",
       "      <th>Humidity</th>\n",
       "      <th>Cloudiness</th>\n",
       "      <th>Wind Speed</th>\n",
       "      <th>Country</th>\n",
       "      <th>Date</th>\n",
       "    </tr>\n",
       "  </thead>\n",
       "  <tbody>\n",
       "    <tr>\n",
       "      <th>0</th>\n",
       "      <td>upernavik</td>\n",
       "      <td>72.7868</td>\n",
       "      <td>-56.1549</td>\n",
       "      <td>16.52</td>\n",
       "      <td>87</td>\n",
       "      <td>100</td>\n",
       "      <td>9.17</td>\n",
       "      <td>GL</td>\n",
       "      <td>1668907471</td>\n",
       "    </tr>\n",
       "    <tr>\n",
       "      <th>1</th>\n",
       "      <td>leningradskiy</td>\n",
       "      <td>69.3833</td>\n",
       "      <td>178.4167</td>\n",
       "      <td>-12.87</td>\n",
       "      <td>98</td>\n",
       "      <td>100</td>\n",
       "      <td>5.75</td>\n",
       "      <td>RU</td>\n",
       "      <td>1668907471</td>\n",
       "    </tr>\n",
       "    <tr>\n",
       "      <th>2</th>\n",
       "      <td>pevek</td>\n",
       "      <td>69.7008</td>\n",
       "      <td>170.3133</td>\n",
       "      <td>-16.73</td>\n",
       "      <td>100</td>\n",
       "      <td>99</td>\n",
       "      <td>7.58</td>\n",
       "      <td>RU</td>\n",
       "      <td>1668907471</td>\n",
       "    </tr>\n",
       "    <tr>\n",
       "      <th>3</th>\n",
       "      <td>port augusta</td>\n",
       "      <td>-32.5000</td>\n",
       "      <td>137.7667</td>\n",
       "      <td>69.30</td>\n",
       "      <td>32</td>\n",
       "      <td>6</td>\n",
       "      <td>18.54</td>\n",
       "      <td>AU</td>\n",
       "      <td>1668907472</td>\n",
       "    </tr>\n",
       "    <tr>\n",
       "      <th>4</th>\n",
       "      <td>bonavista</td>\n",
       "      <td>48.6499</td>\n",
       "      <td>-53.1147</td>\n",
       "      <td>34.36</td>\n",
       "      <td>62</td>\n",
       "      <td>46</td>\n",
       "      <td>20.80</td>\n",
       "      <td>CA</td>\n",
       "      <td>1668907473</td>\n",
       "    </tr>\n",
       "  </tbody>\n",
       "</table>\n",
       "</div>"
      ],
      "text/plain": [
       "            City      Lat       Lng  Max Temp  Humidity  Cloudiness  \\\n",
       "0      upernavik  72.7868  -56.1549     16.52        87         100   \n",
       "1  leningradskiy  69.3833  178.4167    -12.87        98         100   \n",
       "2          pevek  69.7008  170.3133    -16.73       100          99   \n",
       "3   port augusta -32.5000  137.7667     69.30        32           6   \n",
       "4      bonavista  48.6499  -53.1147     34.36        62          46   \n",
       "\n",
       "   Wind Speed Country        Date  \n",
       "0        9.17      GL  1668907471  \n",
       "1        5.75      RU  1668907471  \n",
       "2        7.58      RU  1668907471  \n",
       "3       18.54      AU  1668907472  \n",
       "4       20.80      CA  1668907473  "
      ]
     },
     "execution_count": 123,
     "metadata": {},
     "output_type": "execute_result"
    }
   ],
   "source": [
    "# Make a new DataFrame equal to the city data to drop all humidity outliers by index.\n",
    "# Passing \"inplace=False\" will make a copy of the city_data DataFrame, which we call \"clean_city_data\".\n",
    "clean_city_data = city_data_df.drop(humidity_data,inplace = False)\n",
    "clean_city_data.head()\n"
   ]
  },
  {
   "cell_type": "code",
   "execution_count": null,
   "metadata": {},
   "outputs": [],
   "source": [
    "\n"
   ]
  },
  {
   "cell_type": "markdown",
   "metadata": {},
   "source": [
    "## Plotting the Data\n",
    "* Use proper labeling of the plots using plot titles (including date of analysis) and axes labels.\n",
    "* Save the plotted figures as .pngs."
   ]
  },
  {
   "cell_type": "markdown",
   "metadata": {},
   "source": [
    "## Latitude vs. Temperature Plot"
   ]
  },
  {
   "cell_type": "code",
   "execution_count": 124,
   "metadata": {
    "scrolled": false
   },
   "outputs": [
    {
     "data": {
      "text/plain": [
       "Text(0, 0.5, 'Max Temperature (F)')"
      ]
     },
     "execution_count": 124,
     "metadata": {},
     "output_type": "execute_result"
    },
    {
     "data": {
      "image/png": "[encoded data removed]",
      "text/plain": [
       "<Figure size 432x288 with 1 Axes>"
      ]
     },
     "metadata": {
      "needs_background": "light"
     },
     "output_type": "display_data"
    }
   ],
   "source": [
    "x_axis = clean_city_data[\"Lat\"]\n",
    "y_axis = clean_city_data[\"Max Temp\"]\n",
    "plt.scatter(x_axis, y_axis, marker = \"o\", facecolors = 'blue' , edgecolors = \"black\")\n",
    "plt.title(\"City Latitude vs. Max Temperature\")\n",
    "plt.xlabel(\"Latitude\")\n",
    "plt.ylabel(\"Max Temperature (F)\")"
   ]
  },
  {
   "cell_type": "markdown",
   "metadata": {},
   "source": [
    "## Latitude vs. Humidity Plot"
   ]
  },
  {
   "cell_type": "code",
   "execution_count": 125,
   "metadata": {},
   "outputs": [
    {
     "data": {
      "text/plain": [
       "Text(0, 0.5, 'Humidity (%)')"
      ]
     },
     "execution_count": 125,
     "metadata": {},
     "output_type": "execute_result"
    },
    {
     "data": {
      "image/png": "[encoded data removed]",
      "text/plain": [
       "<Figure size 432x288 with 1 Axes>"
      ]
     },
     "metadata": {
      "needs_background": "light"
     },
     "output_type": "display_data"
    }
   ],
   "source": [
    "x_axis = clean_city_data[\"Lat\"]\n",
    "y_axis = clean_city_data[\"Humidity\"]\n",
    "plt.scatter(x_axis, y_axis, marker = \"o\", facecolors = 'blue' , edgecolors = \"black\")\n",
    "plt.title(\"City Latitude vs. Humidity\")\n",
    "plt.xlabel(\"Latitude\")\n",
    "plt.ylabel(\"Humidity (%)\")"
   ]
  },
  {
   "cell_type": "markdown",
   "metadata": {},
   "source": [
    "## Latitude vs. Cloudiness Plot"
   ]
  },
  {
   "cell_type": "code",
   "execution_count": 126,
   "metadata": {
    "scrolled": true
   },
   "outputs": [
    {
     "data": {
      "text/plain": [
       "Text(0, 0.5, 'Cloudiness (%)')"
      ]
     },
     "execution_count": 126,
     "metadata": {},
     "output_type": "execute_result"
    },
    {
     "data": {
      "image/png": "[encoded data removed]",
      "text/plain": [
       "<Figure size 432x288 with 1 Axes>"
      ]
     },
     "metadata": {
      "needs_background": "light"
     },
     "output_type": "display_data"
    }
   ],
   "source": [
    "x_axis = clean_city_data[\"Lat\"]\n",
    "y_axis = clean_city_data[\"Cloudiness\"]\n",
    "plt.scatter(x_axis, y_axis, marker = \"o\", facecolors = 'blue' , edgecolors = \"black\")\n",
    "plt.title(\"City Latitude vs. Cloudiness\")\n",
    "plt.xlabel(\"Latitude\")\n",
    "plt.ylabel(\"Cloudiness (%)\")"
   ]
  },
  {
   "cell_type": "markdown",
   "metadata": {},
   "source": [
    "## Latitude vs. Wind Speed Plot"
   ]
  },
  {
   "cell_type": "code",
   "execution_count": 127,
   "metadata": {},
   "outputs": [
    {
     "data": {
      "text/plain": [
       "Text(0, 0.5, 'Wind Speed (mph)')"
      ]
     },
     "execution_count": 127,
     "metadata": {},
     "output_type": "execute_result"
    },
    {
     "data": {
      "image/png": "[encoded data removed]",
      "text/plain": [
       "<Figure size 432x288 with 1 Axes>"
      ]
     },
     "metadata": {
      "needs_background": "light"
     },
     "output_type": "display_data"
    }
   ],
   "source": [
    "x_axis = clean_city_data[\"Lat\"]\n",
    "y_axis = clean_city_data[\"Wind Speed\"]\n",
    "plt.scatter(x_axis, y_axis, marker = \"o\", facecolors = 'blue' , edgecolors = \"black\")\n",
    "plt.title(\"City Latitude vs. Wind Speed\")\n",
    "plt.xlabel(\"Latitude\")\n",
    "plt.ylabel(\"Wind Speed (mph)\")"
   ]
  },
  {
   "cell_type": "markdown",
   "metadata": {},
   "source": [
    "## Linear Regression"
   ]
  },
  {
   "cell_type": "code",
   "execution_count": 128,
   "metadata": {},
   "outputs": [],
   "source": [
    "north_hemi = clean_city_data.loc[clean_city_data[\"Lat\"] >= 0] \n",
    "south_hemi = clean_city_data.loc[clean_city_data[\"Lat\"] < 0] "
   ]
  },
  {
   "cell_type": "markdown",
   "metadata": {},
   "source": [
    "####  Northern Hemisphere - Max Temp vs. Latitude Linear Regression"
   ]
  },
  {
   "cell_type": "code",
   "execution_count": 129,
   "metadata": {},
   "outputs": [
    {
     "name": "stdout",
     "output_type": "stream",
     "text": [
      "The r-value is: 0.7481501852174406\n"
     ]
    },
    {
     "data": {
      "image/png": "[encoded data removed]",
      "text/plain": [
       "<Figure size 432x288 with 1 Axes>"
      ]
     },
     "metadata": {
      "needs_background": "light"
     },
     "output_type": "display_data"
    }
   ],
   "source": [
    "x_values = north_hemi[\"Lat\"] \n",
    "y_values = north_hemi[\"Max Temp\"]\n",
    "(slope, intercept, rvalue, pvalue, stderr) = linregress(x_values, y_values)\n",
    "regress_values = x_values * slope + intercept\n",
    "line_eq = \"y = \" + str(round(slope,2)) + \"x + \" + str(round(intercept,2))\n",
    "plt.scatter(x_values,y_values)\n",
    "plt.plot(x_values,regress_values,\"r-\")\n",
    "plt.annotate(line_eq,(7,1),fontsize = 15,color=\"red\")\n",
    "plt.xlabel('Latitude')\n",
    "plt.ylabel('Max Temp')\n",
    "print(f\"The r-value is: {rvalue**2}\")\n",
    "plt.show()"
   ]
  },
  {
   "cell_type": "markdown",
   "metadata": {},
   "source": [
    "####  Southern Hemisphere - Max Temp vs. Latitude Linear Regression"
   ]
  },
  {
   "cell_type": "code",
   "execution_count": 148,
   "metadata": {},
   "outputs": [
    {
     "name": "stdout",
     "output_type": "stream",
     "text": [
      "The r-value is: 0.3552788781161212\n"
     ]
    },
    {
     "data": {
      "image/png": "[encoded data removed]",
      "text/plain": [
       "<Figure size 432x288 with 1 Axes>"
      ]
     },
     "metadata": {
      "needs_background": "light"
     },
     "output_type": "display_data"
    }
   ],
   "source": [
    "x_values = south_hemi[\"Lat\"]\n",
    "y_values = south_hemi[\"Max Temp\"]\n",
    "(slope, intercept, rvalue, pvalue, stderr) = linregress(x_values, y_values)\n",
    "regress_values = x_values * slope + intercept\n",
    "line_eq = \"y = \" + str(round(slope,2)) + \"x + \" + str(round(intercept,2))\n",
    "plt.scatter(x_values,y_values)\n",
    "plt.plot(x_values,regress_values,\"r-\")\n",
    "plt.annotate(line_eq,(-25,50),fontsize = 15,color=\"red\")\n",
    "plt.xlabel('Latitude')\n",
    "plt.ylabel('Max Temp')\n",
    "print(f\"The r-value is: {rvalue**2}\")\n",
    "plt.show()"
   ]
  },
  {
   "cell_type": "markdown",
   "metadata": {},
   "source": [
    "####  Northern Hemisphere - Humidity (%) vs. Latitude Linear Regression"
   ]
  },
  {
   "cell_type": "code",
   "execution_count": 145,
   "metadata": {},
   "outputs": [
    {
     "name": "stdout",
     "output_type": "stream",
     "text": [
      "The r-value is: 0.11538439253973991\n"
     ]
    },
    {
     "data": {
      "image/png": "[encoded data removed]",
      "text/plain": [
       "<Figure size 432x288 with 1 Axes>"
      ]
     },
     "metadata": {
      "needs_background": "light"
     },
     "output_type": "display_data"
    }
   ],
   "source": [
    "x_values = north_hemi[\"Lat\"]\n",
    "y_values = north_hemi[\"Humidity\"]\n",
    "(slope, intercept, rvalue, pvalue, stderr) = linregress(x_values, y_values)\n",
    "regress_values = x_values * slope + intercept\n",
    "plt.scatter(x_values,y_values)\n",
    "line_eq = \"y = \" + str(round(slope,2)) + \"x + \" + str(round(intercept,2))\n",
    "plt.plot(x_values,regress_values,\"r-\")\n",
    "plt.annotate(line_eq,(40,30),fontsize = 15,color=\"red\")\n",
    "plt.xlabel('Latitude')\n",
    "plt.ylabel('Humidity')\n",
    "print(f\"The r-value is: {rvalue**2}\")\n",
    "plt.show()"
   ]
  },
  {
   "cell_type": "markdown",
   "metadata": {},
   "source": [
    "####  Southern Hemisphere - Humidity (%) vs. Latitude Linear Regression"
   ]
  },
  {
   "cell_type": "code",
   "execution_count": 146,
   "metadata": {},
   "outputs": [
    {
     "name": "stdout",
     "output_type": "stream",
     "text": [
      "The r-value is: 0.09885947561812922\n"
     ]
    },
    {
     "data": {
      "image/png": "[encoded data removed]",
      "text/plain": [
       "<Figure size 432x288 with 1 Axes>"
      ]
     },
     "metadata": {
      "needs_background": "light"
     },
     "output_type": "display_data"
    }
   ],
   "source": [
    "x_values = south_hemi[\"Lat\"]\n",
    "y_values = south_hemi[\"Humidity\"]\n",
    "(slope, intercept, rvalue, pvalue, stderr) = linregress(x_values, y_values)\n",
    "regress_values = x_values * slope + intercept\n",
    "line_eq = \"y = \" + str(round(slope,2)) + \"x + \" + str(round(intercept,2))\n",
    "plt.scatter(x_values,y_values)\n",
    "plt.plot(x_values,regress_values,\"r-\")\n",
    "plt.annotate(line_eq,(-50,20),fontsize = 15,color=\"red\")\n",
    "plt.xlabel('Latitude')\n",
    "plt.ylabel('Humidity')\n",
    "print(f\"The r-value is: {rvalue**2}\")\n",
    "plt.show()"
   ]
  },
  {
   "cell_type": "markdown",
   "metadata": {},
   "source": [
    "####  Northern Hemisphere - Cloudiness (%) vs. Latitude Linear Regression"
   ]
  },
  {
   "cell_type": "code",
   "execution_count": 152,
   "metadata": {},
   "outputs": [
    {
     "name": "stdout",
     "output_type": "stream",
     "text": [
      "The r-value is: 0.0188476286888589\n"
     ]
    },
    {
     "data": {
      "image/png": "[encoded data removed]",
      "text/plain": [
       "<Figure size 432x288 with 1 Axes>"
      ]
     },
     "metadata": {
      "needs_background": "light"
     },
     "output_type": "display_data"
    }
   ],
   "source": [
    "x_values = north_hemi[\"Lat\"]\n",
    "y_values = north_hemi[\"Cloudiness\"]\n",
    "(slope, intercept, rvalue, pvalue, stderr) = linregress(x_values, y_values)\n",
    "regress_values = x_values * slope + intercept\n",
    "line_eq = \"y = \" + str(round(slope,2)) + \"x + \" + str(round(intercept,2))\n",
    "plt.scatter(x_values,y_values)\n",
    "plt.plot(x_values,regress_values,\"r-\")\n",
    "plt.annotate(line_eq,(45,35),fontsize = 15,color=\"red\")\n",
    "plt.xlabel('Latitude')\n",
    "plt.ylabel('Cloudiness')\n",
    "print(f\"The r-value is: {rvalue**2}\")\n",
    "plt.show()"
   ]
  },
  {
   "cell_type": "markdown",
   "metadata": {},
   "source": [
    "####  Southern Hemisphere - Cloudiness (%) vs. Latitude Linear Regression"
   ]
  },
  {
   "cell_type": "code",
   "execution_count": 156,
   "metadata": {
    "scrolled": true
   },
   "outputs": [
    {
     "name": "stdout",
     "output_type": "stream",
     "text": [
      "The r-value is: 0.03908358968385854\n"
     ]
    },
    {
     "data": {
      "image/png": "[encoded data removed]",
      "text/plain": [
       "<Figure size 432x288 with 1 Axes>"
      ]
     },
     "metadata": {
      "needs_background": "light"
     },
     "output_type": "display_data"
    }
   ],
   "source": [
    "x_values = south_hemi[\"Lat\"]\n",
    "y_values = south_hemi[\"Cloudiness\"]\n",
    "(slope, intercept, rvalue, pvalue, stderr) = linregress(x_values, y_values)\n",
    "regress_values = x_values * slope + intercept\n",
    "line_eq = \"y = \" + str(round(slope,2)) + \"x + \" + str(round(intercept,2))\n",
    "plt.scatter(x_values,y_values)\n",
    "plt.plot(x_values,regress_values,\"r-\")\n",
    "plt.annotate(line_eq,(-50,15),fontsize = 15,color=\"red\")\n",
    "plt.xlabel('Latitude')\n",
    "plt.ylabel('Cloudiness')\n",
    "print(f\"The r-value is: {rvalue**2}\")\n",
    "plt.show()"
   ]
  },
  {
   "cell_type": "markdown",
   "metadata": {},
   "source": [
    "####  Northern Hemisphere - Wind Speed (mph) vs. Latitude Linear Regression"
   ]
  },
  {
   "cell_type": "code",
   "execution_count": 158,
   "metadata": {},
   "outputs": [
    {
     "name": "stdout",
     "output_type": "stream",
     "text": [
      "The r-value is: 0.00832804166709885\n"
     ]
    },
    {
     "data": {
      "image/png": "[encoded data removed]",
      "text/plain": [
       "<Figure size 432x288 with 1 Axes>"
      ]
     },
     "metadata": {
      "needs_background": "light"
     },
     "output_type": "display_data"
    }
   ],
   "source": [
    "x_values = north_hemi[\"Lat\"]\n",
    "y_values = north_hemi[\"Wind Speed\"]\n",
    "(slope, intercept, rvalue, pvalue, stderr) = linregress(x_values, y_values)\n",
    "regress_values = x_values * slope + intercept\n",
    "line_eq = \"y = \" + str(round(slope,2)) + \"x + \" + str(round(intercept,2))\n",
    "plt.scatter(x_values,y_values)\n",
    "plt.plot(x_values,regress_values,\"r-\")\n",
    "plt.annotate(line_eq,(10,30),fontsize = 15,color=\"red\")\n",
    "plt.xlabel('Latitude')\n",
    "plt.ylabel('Wind Speed (mph)')\n",
    "print(f\"The r-value is: {rvalue**2}\")\n",
    "plt.show()"
   ]
  },
  {
   "cell_type": "markdown",
   "metadata": {},
   "source": [
    "####  Southern Hemisphere - Wind Speed (mph) vs. Latitude Linear Regression"
   ]
  },
  {
   "cell_type": "code",
   "execution_count": 157,
   "metadata": {},
   "outputs": [
    {
     "name": "stdout",
     "output_type": "stream",
     "text": [
      "The r-value is: 0.0711120223694043\n"
     ]
    },
    {
     "data": {
      "image/png": "[encoded data removed]",
      "text/plain": [
       "<Figure size 432x288 with 1 Axes>"
      ]
     },
     "metadata": {
      "needs_background": "light"
     },
     "output_type": "display_data"
    }
   ],
   "source": [
    "x_values = south_hemi[\"Lat\"]\n",
    "y_values = south_hemi[\"Wind Speed\"]\n",
    "(slope, intercept, rvalue, pvalue, stderr) = linregress(x_values, y_values)\n",
    "regress_values = x_values * slope + intercept\n",
    "line_eq = \"y = \" + str(round(slope,2)) + \"x + \" + str(round(intercept,2))\n",
    "plt.scatter(x_values,y_values)\n",
    "plt.plot(x_values,regress_values,\"r-\")\n",
    "plt.annotate(line_eq,(-25,25),fontsize = 15,color=\"red\")\n",
    "plt.xlabel('Latitude')\n",
    "plt.ylabel('Wind Speed (mph)')\n",
    "print(f\"The r-value is: {rvalue**2}\")\n",
    "plt.show()"
   ]
  },
  {
   "cell_type": "code",
   "execution_count": 137,
   "metadata": {},
   "outputs": [],
   "source": [
    "city_data_df.to_csv('cities.csv')"
   ]
  }
 ],
 "metadata": {
  "anaconda-cloud": {},
  "kernel_info": {
   "name": "python3"
  },
  "kernelspec": {
   "display_name": "Python 3 (ipykernel)",
   "language": "python",
   "name": "python3"
  },
  "language_info": {
   "codemirror_mode": {
    "name": "ipython",
    "version": 3
   },
   "file_extension": ".py",
   "mimetype": "text/x-python",
   "name": "python",
   "nbconvert_exporter": "python",
   "pygments_lexer": "ipython3",
   "version": "3.9.12"
  },
  "latex_envs": {
   "LaTeX_envs_menu_present": true,
   "autoclose": false,
   "autocomplete": true,
   "bibliofile": "biblio.bib",
   "cite_by": "apalike",
   "current_citInitial": 1,
   "eqLabelWithNumbers": true,
   "eqNumInitial": 1,
   "hotkeys": {
    "equation": "Ctrl-E",
    "itemize": "Ctrl-I"
   },
   "labels_anchors": false,
   "latex_user_defs": false,
   "report_style_numbering": false,
   "user_envs_cfg": false
  },
  "nteract": {
   "version": "0.12.3"
  },
  "vscode": {
   "interpreter": {
    "hash": "21bfaabeb5f90dcb35f03e41cd0a17fbadd35308efdf98a46f30b833cf085000"
   }
  }
 },
 "nbformat": 4,
 "nbformat_minor": 2
}
